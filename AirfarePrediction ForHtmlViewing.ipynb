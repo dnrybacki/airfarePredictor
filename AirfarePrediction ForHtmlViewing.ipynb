{
 "cells": [
  {
   "cell_type": "markdown",
   "metadata": {},
   "source": [
    "# Airfare Prediction Project With Machine Learning\n",
    "##### Dylan Rybacki"
   ]
  },
  {
   "cell_type": "markdown",
   "metadata": {},
   "source": [
    "## Project Overview\n",
    "\n",
    "This project is an attempt to predict the airfare of flights, first by exploring the data set, preprocessing the data set for predictive models, finding an ideal model, and creating a user interface for the model's predictions in hopes to extract insights into the aviation industry and how airlines price their flights. \n",
    "\n",
    "#### 1. Data Exploration\n",
    "\n",
    "    * Dataset will be analyzed for features present\n",
    "    * Explores statistics to gain understanding of the distribution of some features\n",
    "\n",
    "#### 2. Data Visualization\n",
    "\n",
    "    * Dataset will be further explored with the graphical help of matplotlib, seaborne, and plotly\n",
    "    * Derive insights from the dataset\n",
    "    * Explore the relationship between features\n",
    "\n",
    "#### 3. Pre-Processing and Feature Engineering\n",
    "    * Identifying which features are to be predictor features of price\n",
    "    * Engineering a day of the week feature\n",
    "    * One hot encoding categorical data\n",
    "    * Display feature coorelation table\n",
    "    * Splitting data into training and testing\n",
    "\n",
    "#### 4. Modeling\n",
    "    * Testing performace of linear regression on data\n",
    "    * Analyze other models such as Lasso, Ridge, Decision Tree, Random Forrest, and XGBoost\n",
    "    * Determine best model using $R^2$ and $RMSE$ and hyperparameter tuning to optimize it\n",
    "    * Save model to be used in user interface\n",
    "\n",
    "#### 5. Conclusion"
   ]
  },
  {
   "cell_type": "markdown",
   "metadata": {},
   "source": [
    "### Setup"
   ]
  },
  {
   "cell_type": "code",
   "execution_count": 1,
   "metadata": {},
   "outputs": [],
   "source": [
    "import pandas as pd\n",
    "import numpy as np\n",
    "import matplotlib.pyplot as plt\n",
    "import seaborn as sns\n",
    "import plotly.tools as tls\n",
    "import plotly.express as px\n",
    "import plotly.subplots as sp\n",
    "import plotly.graph_objects as go\n",
    "from pySankey.sankey import sankey"
   ]
  },
  {
   "cell_type": "code",
   "execution_count": 2,
   "metadata": {},
   "outputs": [],
   "source": [
    "import plotly.io as pio\n",
    "pio.renderers.default = \"iframe_connected\" "
   ]
  },
  {
   "cell_type": "markdown",
   "metadata": {},
   "source": [
    "## 1. Data Exploration"
   ]
  },
  {
   "cell_type": "markdown",
   "metadata": {},
   "source": [
    "This is a data set from Kaggle (https://www.kaggle.com/datasets/shubhambathwal/flight-price-prediction/data) about airfair prices over various airlines between major Indian cities. The data has features such as airline, origin, destination, class, number of stops, price, and more. In this project, I hope to be able to create a model that can accuratly predict airfare given different specifications for the variables. Although given the dataset, the model won't be able to be used as a way of predicting flight prices within the US due to limited availibility of such data and APIs to scrape it, this project acts as a proof of concept that such a model is feasible. A fully functional model would be particulary helpful to consumers giving them insight into what prices they could typically find for a given route and an optimal time to make a booking. "
   ]
  },
  {
   "cell_type": "code",
   "execution_count": 3,
   "metadata": {},
   "outputs": [
    {
     "data": {
      "text/html": [
       "<div>\n",
       "<style scoped>\n",
       "    .dataframe tbody tr th:only-of-type {\n",
       "        vertical-align: middle;\n",
       "    }\n",
       "\n",
       "    .dataframe tbody tr th {\n",
       "        vertical-align: top;\n",
       "    }\n",
       "\n",
       "    .dataframe thead th {\n",
       "        text-align: right;\n",
       "    }\n",
       "</style>\n",
       "<table border=\"1\" class=\"dataframe\">\n",
       "  <thead>\n",
       "    <tr style=\"text-align: right;\">\n",
       "      <th></th>\n",
       "      <th>Unnamed: 0</th>\n",
       "      <th>airline</th>\n",
       "      <th>flight</th>\n",
       "      <th>source_city</th>\n",
       "      <th>departure_time</th>\n",
       "      <th>stops</th>\n",
       "      <th>arrival_time</th>\n",
       "      <th>destination_city</th>\n",
       "      <th>class</th>\n",
       "      <th>duration</th>\n",
       "      <th>days_left</th>\n",
       "      <th>price</th>\n",
       "    </tr>\n",
       "  </thead>\n",
       "  <tbody>\n",
       "    <tr>\n",
       "      <th>0</th>\n",
       "      <td>0</td>\n",
       "      <td>SpiceJet</td>\n",
       "      <td>SG-8709</td>\n",
       "      <td>Delhi</td>\n",
       "      <td>Evening</td>\n",
       "      <td>zero</td>\n",
       "      <td>Night</td>\n",
       "      <td>Mumbai</td>\n",
       "      <td>Economy</td>\n",
       "      <td>2.17</td>\n",
       "      <td>1</td>\n",
       "      <td>5953</td>\n",
       "    </tr>\n",
       "    <tr>\n",
       "      <th>1</th>\n",
       "      <td>1</td>\n",
       "      <td>SpiceJet</td>\n",
       "      <td>SG-8157</td>\n",
       "      <td>Delhi</td>\n",
       "      <td>Early_Morning</td>\n",
       "      <td>zero</td>\n",
       "      <td>Morning</td>\n",
       "      <td>Mumbai</td>\n",
       "      <td>Economy</td>\n",
       "      <td>2.33</td>\n",
       "      <td>1</td>\n",
       "      <td>5953</td>\n",
       "    </tr>\n",
       "    <tr>\n",
       "      <th>2</th>\n",
       "      <td>2</td>\n",
       "      <td>AirAsia</td>\n",
       "      <td>I5-764</td>\n",
       "      <td>Delhi</td>\n",
       "      <td>Early_Morning</td>\n",
       "      <td>zero</td>\n",
       "      <td>Early_Morning</td>\n",
       "      <td>Mumbai</td>\n",
       "      <td>Economy</td>\n",
       "      <td>2.17</td>\n",
       "      <td>1</td>\n",
       "      <td>5956</td>\n",
       "    </tr>\n",
       "    <tr>\n",
       "      <th>3</th>\n",
       "      <td>3</td>\n",
       "      <td>Vistara</td>\n",
       "      <td>UK-995</td>\n",
       "      <td>Delhi</td>\n",
       "      <td>Morning</td>\n",
       "      <td>zero</td>\n",
       "      <td>Afternoon</td>\n",
       "      <td>Mumbai</td>\n",
       "      <td>Economy</td>\n",
       "      <td>2.25</td>\n",
       "      <td>1</td>\n",
       "      <td>5955</td>\n",
       "    </tr>\n",
       "    <tr>\n",
       "      <th>4</th>\n",
       "      <td>4</td>\n",
       "      <td>Vistara</td>\n",
       "      <td>UK-963</td>\n",
       "      <td>Delhi</td>\n",
       "      <td>Morning</td>\n",
       "      <td>zero</td>\n",
       "      <td>Morning</td>\n",
       "      <td>Mumbai</td>\n",
       "      <td>Economy</td>\n",
       "      <td>2.33</td>\n",
       "      <td>1</td>\n",
       "      <td>5955</td>\n",
       "    </tr>\n",
       "    <tr>\n",
       "      <th>...</th>\n",
       "      <td>...</td>\n",
       "      <td>...</td>\n",
       "      <td>...</td>\n",
       "      <td>...</td>\n",
       "      <td>...</td>\n",
       "      <td>...</td>\n",
       "      <td>...</td>\n",
       "      <td>...</td>\n",
       "      <td>...</td>\n",
       "      <td>...</td>\n",
       "      <td>...</td>\n",
       "      <td>...</td>\n",
       "    </tr>\n",
       "    <tr>\n",
       "      <th>300148</th>\n",
       "      <td>300148</td>\n",
       "      <td>Vistara</td>\n",
       "      <td>UK-822</td>\n",
       "      <td>Chennai</td>\n",
       "      <td>Morning</td>\n",
       "      <td>one</td>\n",
       "      <td>Evening</td>\n",
       "      <td>Hyderabad</td>\n",
       "      <td>Business</td>\n",
       "      <td>10.08</td>\n",
       "      <td>49</td>\n",
       "      <td>69265</td>\n",
       "    </tr>\n",
       "    <tr>\n",
       "      <th>300149</th>\n",
       "      <td>300149</td>\n",
       "      <td>Vistara</td>\n",
       "      <td>UK-826</td>\n",
       "      <td>Chennai</td>\n",
       "      <td>Afternoon</td>\n",
       "      <td>one</td>\n",
       "      <td>Night</td>\n",
       "      <td>Hyderabad</td>\n",
       "      <td>Business</td>\n",
       "      <td>10.42</td>\n",
       "      <td>49</td>\n",
       "      <td>77105</td>\n",
       "    </tr>\n",
       "    <tr>\n",
       "      <th>300150</th>\n",
       "      <td>300150</td>\n",
       "      <td>Vistara</td>\n",
       "      <td>UK-832</td>\n",
       "      <td>Chennai</td>\n",
       "      <td>Early_Morning</td>\n",
       "      <td>one</td>\n",
       "      <td>Night</td>\n",
       "      <td>Hyderabad</td>\n",
       "      <td>Business</td>\n",
       "      <td>13.83</td>\n",
       "      <td>49</td>\n",
       "      <td>79099</td>\n",
       "    </tr>\n",
       "    <tr>\n",
       "      <th>300151</th>\n",
       "      <td>300151</td>\n",
       "      <td>Vistara</td>\n",
       "      <td>UK-828</td>\n",
       "      <td>Chennai</td>\n",
       "      <td>Early_Morning</td>\n",
       "      <td>one</td>\n",
       "      <td>Evening</td>\n",
       "      <td>Hyderabad</td>\n",
       "      <td>Business</td>\n",
       "      <td>10.00</td>\n",
       "      <td>49</td>\n",
       "      <td>81585</td>\n",
       "    </tr>\n",
       "    <tr>\n",
       "      <th>300152</th>\n",
       "      <td>300152</td>\n",
       "      <td>Vistara</td>\n",
       "      <td>UK-822</td>\n",
       "      <td>Chennai</td>\n",
       "      <td>Morning</td>\n",
       "      <td>one</td>\n",
       "      <td>Evening</td>\n",
       "      <td>Hyderabad</td>\n",
       "      <td>Business</td>\n",
       "      <td>10.08</td>\n",
       "      <td>49</td>\n",
       "      <td>81585</td>\n",
       "    </tr>\n",
       "  </tbody>\n",
       "</table>\n",
       "<p>300153 rows × 12 columns</p>\n",
       "</div>"
      ],
      "text/plain": [
       "        Unnamed: 0   airline   flight source_city departure_time stops  \\\n",
       "0                0  SpiceJet  SG-8709       Delhi        Evening  zero   \n",
       "1                1  SpiceJet  SG-8157       Delhi  Early_Morning  zero   \n",
       "2                2   AirAsia   I5-764       Delhi  Early_Morning  zero   \n",
       "3                3   Vistara   UK-995       Delhi        Morning  zero   \n",
       "4                4   Vistara   UK-963       Delhi        Morning  zero   \n",
       "...            ...       ...      ...         ...            ...   ...   \n",
       "300148      300148   Vistara   UK-822     Chennai        Morning   one   \n",
       "300149      300149   Vistara   UK-826     Chennai      Afternoon   one   \n",
       "300150      300150   Vistara   UK-832     Chennai  Early_Morning   one   \n",
       "300151      300151   Vistara   UK-828     Chennai  Early_Morning   one   \n",
       "300152      300152   Vistara   UK-822     Chennai        Morning   one   \n",
       "\n",
       "         arrival_time destination_city     class  duration  days_left  price  \n",
       "0               Night           Mumbai   Economy      2.17          1   5953  \n",
       "1             Morning           Mumbai   Economy      2.33          1   5953  \n",
       "2       Early_Morning           Mumbai   Economy      2.17          1   5956  \n",
       "3           Afternoon           Mumbai   Economy      2.25          1   5955  \n",
       "4             Morning           Mumbai   Economy      2.33          1   5955  \n",
       "...               ...              ...       ...       ...        ...    ...  \n",
       "300148        Evening        Hyderabad  Business     10.08         49  69265  \n",
       "300149          Night        Hyderabad  Business     10.42         49  77105  \n",
       "300150          Night        Hyderabad  Business     13.83         49  79099  \n",
       "300151        Evening        Hyderabad  Business     10.00         49  81585  \n",
       "300152        Evening        Hyderabad  Business     10.08         49  81585  \n",
       "\n",
       "[300153 rows x 12 columns]"
      ]
     },
     "execution_count": 3,
     "metadata": {},
     "output_type": "execute_result"
    }
   ],
   "source": [
    "#Loading in data from Kaggle dataset and display\n",
    "df = pd.read_csv('FlightPricePrediction/Clean_Dataset.csv')\n",
    "df\n"
   ]
  },
  {
   "cell_type": "code",
   "execution_count": 4,
   "metadata": {},
   "outputs": [
    {
     "data": {
      "text/plain": [
       "count    300153.000000\n",
       "mean      20889.660523\n",
       "std       22697.767366\n",
       "min        1105.000000\n",
       "25%        4783.000000\n",
       "50%        7425.000000\n",
       "75%       42521.000000\n",
       "max      123071.000000\n",
       "Name: price, dtype: float64"
      ]
     },
     "execution_count": 4,
     "metadata": {},
     "output_type": "execute_result"
    }
   ],
   "source": [
    "df.price.describe() #summarizes the prices within the dataframe"
   ]
  },
  {
   "cell_type": "markdown",
   "metadata": {},
   "source": [
    "The prices are in Rupees and range from about 1105 to 123071 with a mean of 20890 and a standard deviation of 22698. This shows how the prices of these flights vary greatly."
   ]
  },
  {
   "cell_type": "code",
   "execution_count": 4,
   "metadata": {},
   "outputs": [
    {
     "data": {
      "text/plain": [
       "Delhi        61343\n",
       "Mumbai       60896\n",
       "Bangalore    52061\n",
       "Kolkata      46347\n",
       "Hyderabad    40806\n",
       "Chennai      38700\n",
       "Name: source_city, dtype: int64"
      ]
     },
     "execution_count": 4,
     "metadata": {},
     "output_type": "execute_result"
    }
   ],
   "source": [
    "df.source_city.value_counts() #displays the number of flights in the dataset from each source city"
   ]
  },
  {
   "cell_type": "code",
   "execution_count": 5,
   "metadata": {},
   "outputs": [
    {
     "data": {
      "text/plain": [
       "Vistara      127859\n",
       "Air_India     80892\n",
       "Indigo        43120\n",
       "GO_FIRST      23173\n",
       "AirAsia       16098\n",
       "SpiceJet       9011\n",
       "Name: airline, dtype: int64"
      ]
     },
     "execution_count": 5,
     "metadata": {},
     "output_type": "execute_result"
    }
   ],
   "source": [
    "df.airline.value_counts() #displays the number of flights per airline"
   ]
  },
  {
   "cell_type": "code",
   "execution_count": 6,
   "metadata": {},
   "outputs": [
    {
     "name": "stdout",
     "output_type": "stream",
     "text": [
      "Series([], dtype: int64)\n"
     ]
    }
   ],
   "source": [
    "missing_val_count_by_column = (df.isnull().sum())\n",
    "print(missing_val_count_by_column[missing_val_count_by_column > 0]) #verifying no missing values"
   ]
  },
  {
   "cell_type": "code",
   "execution_count": 7,
   "metadata": {},
   "outputs": [
    {
     "data": {
      "text/plain": [
       "Economy     206666\n",
       "Business     93487\n",
       "Name: class, dtype: int64"
      ]
     },
     "execution_count": 7,
     "metadata": {},
     "output_type": "execute_result"
    }
   ],
   "source": [
    "df['class'].value_counts() #displays the number of flights by class in df"
   ]
  },
  {
   "cell_type": "code",
   "execution_count": 8,
   "metadata": {},
   "outputs": [
    {
     "data": {
      "text/plain": [
       "one            250863\n",
       "zero            36004\n",
       "two_or_more     13286\n",
       "Name: stops, dtype: int64"
      ]
     },
     "execution_count": 8,
     "metadata": {},
     "output_type": "execute_result"
    }
   ],
   "source": [
    "df.stops.value_counts() #displays the number of stopovers for each datapoint in the dataframe"
   ]
  },
  {
   "cell_type": "code",
   "execution_count": 9,
   "metadata": {},
   "outputs": [
    {
     "data": {
      "text/plain": [
       "count    300153.000000\n",
       "mean         26.004751\n",
       "std          13.561004\n",
       "min           1.000000\n",
       "25%          15.000000\n",
       "50%          26.000000\n",
       "75%          38.000000\n",
       "max          49.000000\n",
       "Name: days_left, dtype: float64"
      ]
     },
     "execution_count": 9,
     "metadata": {},
     "output_type": "execute_result"
    }
   ],
   "source": [
    "df.days_left.describe()"
   ]
  },
  {
   "cell_type": "markdown",
   "metadata": {},
   "source": [
    "## 2. Visualizing the Dataset"
   ]
  },
  {
   "cell_type": "code",
   "execution_count": 5,
   "metadata": {},
   "outputs": [
    {
     "data": {
      "text/html": [
       "<iframe\n",
       "    scrolling=\"no\"\n",
       "    width=\"100%\"\n",
       "    height=\"545px\"\n",
       "    src=\"iframe_figures/figure_5.html\"\n",
       "    frameborder=\"0\"\n",
       "    allowfullscreen\n",
       "></iframe>\n"
      ]
     },
     "metadata": {},
     "output_type": "display_data"
    }
   ],
   "source": [
    "#When do the flights leave\n",
    "freq = df.days_left.value_counts() #creates a series where each index is the days until departure and its value is its frequency of appearance in the dataset\n",
    "fig = px.bar(freq, x= freq.index, y = freq.values)\n",
    "fig.update_xaxes(title_text='Days Until Departure') #changes x axis label\n",
    "fig.update_yaxes(title_text='Frequency') #changes y axis label\n",
    "\n",
    "fig.show()"
   ]
  },
  {
   "cell_type": "code",
   "execution_count": 6,
   "metadata": {},
   "outputs": [
    {
     "data": {
      "text/html": [
       "<iframe\n",
       "    scrolling=\"no\"\n",
       "    width=\"820px\"\n",
       "    height=\"620\"\n",
       "    src=\"iframe_figures/figure_6.html\"\n",
       "    frameborder=\"0\"\n",
       "    allowfullscreen\n",
       "></iframe>\n"
      ]
     },
     "metadata": {},
     "output_type": "display_data"
    }
   ],
   "source": [
    "freq = df.source_city.value_counts() #series of the number of flights from each source city index by the city name\n",
    "#create interactive plot of bar chart to visually represent number of flights out of source city using plotly express\n",
    "fig = px.bar(freq, x= freq.index, y = freq.values, labels = {'x': 'Origin City', 'y': 'Flights'}, title = 'Number of Flights Out of Origin Destinations of Dataset')\n",
    "fig.update_xaxes(title_text='Origin City') #changes x axis label\n",
    "fig.update_layout(width=800, height=600) #adjusts dimention of plot\n",
    "\n",
    "#shows plot\n",
    "fig.show()\n"
   ]
  },
  {
   "cell_type": "code",
   "execution_count": 7,
   "metadata": {},
   "outputs": [
    {
     "data": {
      "text/html": [
       "<iframe\n",
       "    scrolling=\"no\"\n",
       "    width=\"620px\"\n",
       "    height=\"620\"\n",
       "    src=\"iframe_figures/figure_7.html\"\n",
       "    frameborder=\"0\"\n",
       "    allowfullscreen\n",
       "></iframe>\n"
      ]
     },
     "metadata": {},
     "output_type": "display_data"
    }
   ],
   "source": [
    "#makes pie chart to see proportion of flights from each source city\n",
    "fig = px.pie(freq, names=freq.index, values=freq.values, title='Percent of Flights Out of Origin Destinations') \n",
    "fig.update_layout(width=600, height=600) \n",
    "fig.update_traces(textinfo='percent+label') #Adds lable to chart\n",
    "\n",
    "fig.show()"
   ]
  },
  {
   "cell_type": "markdown",
   "metadata": {},
   "source": [
    "The graphs above show that in this dataset, Delhi and Mumbai are the two most common origins for flights."
   ]
  },
  {
   "cell_type": "code",
   "execution_count": 13,
   "metadata": {},
   "outputs": [
    {
     "data": {
      "image/png": "[encoded data removed]",
      "text/plain": [
       "<Figure size 600x600 with 1 Axes>"
      ]
     },
     "metadata": {},
     "output_type": "display_data"
    }
   ],
   "source": [
    "skplt = sankey(df['source_city'], df['destination_city'], aspect=20, fontsize=12)\n"
   ]
  },
  {
   "cell_type": "markdown",
   "metadata": {},
   "source": [
    "This sankey graph visualizes the weight of each origin airport going to each destination airport. Given that the thickness of the lines are relatively even, it can be noted that there is no route in this dataset that is particularly over-represented of under-represented."
   ]
  },
  {
   "cell_type": "code",
   "execution_count": 8,
   "metadata": {},
   "outputs": [
    {
     "data": {
      "text/html": [
       "<iframe\n",
       "    scrolling=\"no\"\n",
       "    width=\"660px\"\n",
       "    height=\"500\"\n",
       "    src=\"iframe_figures/figure_8.html\"\n",
       "    frameborder=\"0\"\n",
       "    allowfullscreen\n",
       "></iframe>\n"
      ]
     },
     "metadata": {},
     "output_type": "display_data"
    }
   ],
   "source": [
    "median_prices = df[df['class'] == 'Economy'].groupby('days_left')['price'].median() #gives a series of the median prices per each days left for economy class tickets\n",
    "\n",
    "y = median_prices.values\n",
    "x = -median_prices.index #Days were inverted to represent 'days until departure' with a -5 meaning that the data point represents the price of the flight 5 days before departure\n",
    "#Creats a line plot comparing the median price of economy class tickets to visualize the trend of flight prices compared to booking time\n",
    "plt.plot(x, y)\n",
    "plt.xlabel('Days Until Departure')\n",
    "plt.ylabel('Median Price')\n",
    "plt.title('Median Economy Class Prices by Days')\n",
    "\n",
    "#converts mpl to plotly for interactive graph\n",
    "mpl_fig = plt.gcf()\n",
    "plotly_fig = tls.mpl_to_plotly(mpl_fig) \n",
    "\n",
    "plotly_fig.show()"
   ]
  },
  {
   "cell_type": "code",
   "execution_count": 9,
   "metadata": {},
   "outputs": [
    {
     "data": {
      "text/html": [
       "<iframe\n",
       "    scrolling=\"no\"\n",
       "    width=\"660px\"\n",
       "    height=\"500\"\n",
       "    src=\"iframe_figures/figure_9.html\"\n",
       "    frameborder=\"0\"\n",
       "    allowfullscreen\n",
       "></iframe>\n"
      ]
     },
     "metadata": {},
     "output_type": "display_data"
    }
   ],
   "source": [
    "#Similar process to above for Business class prices\n",
    "median_prices = df[df['class'] == 'Business'].groupby('days_left')['price'].median() #gives a series of the median prices per each days left for business class tickets\n",
    "\n",
    "y = median_prices.values\n",
    "x = -median_prices.index \n",
    "\n",
    "plt.plot(x, y)\n",
    "plt.xlabel('Days Until Departure')\n",
    "plt.ylabel('Median Price')\n",
    "plt.title('Median Business Class Prices by Days')\n",
    "\n",
    "#converts mpl to plotly for interactive graph\n",
    "mpl_fig = plt.gcf()\n",
    "plotly_fig = tls.mpl_to_plotly(mpl_fig) \n",
    "\n",
    "plotly_fig.show()"
   ]
  },
  {
   "cell_type": "markdown",
   "metadata": {},
   "source": [
    "The above graph shows how the median price of flights change as the departure day approaches. Typically, as the departure day gets closer, the price of the flights significantly increases. To see this trend on a more case by case basis, the below graphs show flights the median prices of flights beginning at Delhi to each destination city. This graphs shows that such a trend still holds."
   ]
  },
  {
   "cell_type": "code",
   "execution_count": 11,
   "metadata": {},
   "outputs": [
    {
     "data": {
      "text/plain": [
       "<AxesSubplot:xlabel='days_after', ylabel='price'>"
      ]
     },
     "execution_count": 11,
     "metadata": {},
     "output_type": "execute_result"
    },
    {
     "data": {
      "image/png": "[encoded data removed]",
      "text/plain": [
       "<Figure size 640x480 with 1 Axes>"
      ]
     },
     "metadata": {},
     "output_type": "display_data"
    }
   ],
   "source": [
    "#filter df so that the class is in economy and the source city is from Delhi\n",
    "xdf = df[\n",
    "    (df.source_city == 'Delhi') &\n",
    "    (df['class'] == 'Economy')\n",
    "]\n",
    "\n",
    "median_prices = xdf.groupby(['destination_city', 'days_left'])['price'].median().reset_index() #creates a data frame with three columns with days_after, price, and destination\n",
    "median_prices['days_after'] = -1 * median_prices['days_left'] #inverts days for more intuitive visualization\n",
    "\n",
    "#creates plot using seabourne stratifid by destination\n",
    "sns.lineplot(data = median_prices, x = 'days_after', y = 'price', hue = 'destination_city')\n"
   ]
  },
  {
   "cell_type": "code",
   "execution_count": 12,
   "metadata": {},
   "outputs": [
    {
     "data": {
      "text/html": [
       "<iframe\n",
       "    scrolling=\"no\"\n",
       "    width=\"820px\"\n",
       "    height=\"420\"\n",
       "    src=\"iframe_figures/figure_12.html\"\n",
       "    frameborder=\"0\"\n",
       "    allowfullscreen\n",
       "></iframe>\n"
      ]
     },
     "metadata": {},
     "output_type": "display_data"
    }
   ],
   "source": [
    "#same graph but interactive\n",
    "fig = px.line(median_prices, x = 'days_after', y = 'price', color = 'destination_city') #plotly for interactive plot\n",
    "fig.update_layout(title={'text': 'Airfare from Delhi (Economy Class) Compared to Departure Date'}, width=800, height=400)\n",
    "\n",
    "fig.show()"
   ]
  },
  {
   "cell_type": "code",
   "execution_count": 13,
   "metadata": {},
   "outputs": [
    {
     "name": "stdout",
     "output_type": "stream",
     "text": [
      "Vistara      127859\n",
      "Air_India     80892\n",
      "Indigo        43120\n",
      "GO_FIRST      23173\n",
      "AirAsia       16098\n",
      "SpiceJet       9011\n",
      "Name: airline, dtype: int64\n"
     ]
    },
    {
     "data": {
      "text/html": [
       "<iframe\n",
       "    scrolling=\"no\"\n",
       "    width=\"620px\"\n",
       "    height=\"620\"\n",
       "    src=\"iframe_figures/figure_13.html\"\n",
       "    frameborder=\"0\"\n",
       "    allowfullscreen\n",
       "></iframe>\n"
      ]
     },
     "metadata": {},
     "output_type": "display_data"
    }
   ],
   "source": [
    "freq = df.airline.value_counts()\n",
    "print(freq)\n",
    "\n",
    "#makes pie chart to see proportion of airline \n",
    "fig = px.pie(freq, names=freq.index, values=freq.values, title='Percent of Flights By Airline') \n",
    "fig.update_layout(width=600, height=600) \n",
    "fig.update_traces(textinfo='percent+label') #Adds lable to chart\n",
    "\n",
    "fig.show()"
   ]
  },
  {
   "cell_type": "markdown",
   "metadata": {},
   "source": [
    "The above shows the proportion of airlines share amongst the flights in the dataset. Vistara by far the most representative airline within the dataset followed by Air India. However, SpiceJet has very little representation in the data. This can effect the efficacy of the model amongst these airlines with fewer data as they don't have as much information to draw from."
   ]
  },
  {
   "cell_type": "code",
   "execution_count": 14,
   "metadata": {},
   "outputs": [
    {
     "data": {
      "text/html": [
       "<iframe\n",
       "    scrolling=\"no\"\n",
       "    width=\"820px\"\n",
       "    height=\"420\"\n",
       "    src=\"iframe_figures/figure_14.html\"\n",
       "    frameborder=\"0\"\n",
       "    allowfullscreen\n",
       "></iframe>\n"
      ]
     },
     "metadata": {},
     "output_type": "display_data"
    }
   ],
   "source": [
    "#filter df so that the class is in economy and the source city is from Delhi\n",
    "xdf = df[\n",
    "    (df.source_city == 'Delhi') &\n",
    "    (df['class'] == 'Economy')\n",
    "]\n",
    "\n",
    "median_prices = xdf.groupby(['airline', 'days_left'])['price'].median().reset_index() #creates a data frame with three columns with days_after, price, and destination\n",
    "median_prices['days_after'] = -1 * median_prices['days_left'] #inverts days for more intuitive visualization\n",
    "\n",
    "fig = px.line(median_prices, x = 'days_after', y = 'price', color = 'airline') #plotly for interactive plot\n",
    "fig.update_layout(title={'text': 'Airfare from Delhi (Economy Class) Compared to Departure Date'}, width=800, height=400)\n",
    "\n",
    "fig.show()"
   ]
  },
  {
   "cell_type": "markdown",
   "metadata": {},
   "source": [
    "## 3. Pre-Processing and Feature Engineering"
   ]
  },
  {
   "cell_type": "code",
   "execution_count": 15,
   "metadata": {},
   "outputs": [],
   "source": [
    "from sklearn.model_selection import train_test_split, GridSearchCV"
   ]
  },
  {
   "cell_type": "markdown",
   "metadata": {},
   "source": [
    "### Engineering a day of the week feature"
   ]
  },
  {
   "cell_type": "markdown",
   "metadata": {},
   "source": [
    "One feature that I believe to be key for predicting the price of airfare is the day of the week. However, given this data, there was no column that gave a direct date or day of the week. One solution that could solve this issue is taking each 'days_left' and finding its remainder after dividing by 7 using the modulo function. This should map each day of the week to a number 0 to 6 which can then be mapped into a categorical day of the week which will then be one hot encoded for modeling. Per the source of the data set, the data was all scraped on the same day with the first flight being on February 11th, 2022 so this methedology should be accurate. That day was a Friday so the mapping should be the following: 0 -> Thursday, 1 -> Friday, 2 -> Saturday, 3 -> Sunday, 4 -> Monday, etc.."
   ]
  },
  {
   "cell_type": "code",
   "execution_count": 16,
   "metadata": {},
   "outputs": [
    {
     "data": {
      "text/html": [
       "<div>\n",
       "<style scoped>\n",
       "    .dataframe tbody tr th:only-of-type {\n",
       "        vertical-align: middle;\n",
       "    }\n",
       "\n",
       "    .dataframe tbody tr th {\n",
       "        vertical-align: top;\n",
       "    }\n",
       "\n",
       "    .dataframe thead th {\n",
       "        text-align: right;\n",
       "    }\n",
       "</style>\n",
       "<table border=\"1\" class=\"dataframe\">\n",
       "  <thead>\n",
       "    <tr style=\"text-align: right;\">\n",
       "      <th></th>\n",
       "      <th>days_left</th>\n",
       "      <th>nDayOfWeek</th>\n",
       "      <th>DayOfWeek</th>\n",
       "    </tr>\n",
       "  </thead>\n",
       "  <tbody>\n",
       "    <tr>\n",
       "      <th>100904</th>\n",
       "      <td>39</td>\n",
       "      <td>4</td>\n",
       "      <td>Monday</td>\n",
       "    </tr>\n",
       "    <tr>\n",
       "      <th>22215</th>\n",
       "      <td>14</td>\n",
       "      <td>0</td>\n",
       "      <td>Thursday</td>\n",
       "    </tr>\n",
       "    <tr>\n",
       "      <th>118540</th>\n",
       "      <td>37</td>\n",
       "      <td>2</td>\n",
       "      <td>Saturday</td>\n",
       "    </tr>\n",
       "    <tr>\n",
       "      <th>269569</th>\n",
       "      <td>38</td>\n",
       "      <td>3</td>\n",
       "      <td>Sunday</td>\n",
       "    </tr>\n",
       "    <tr>\n",
       "      <th>297004</th>\n",
       "      <td>26</td>\n",
       "      <td>5</td>\n",
       "      <td>Tuesday</td>\n",
       "    </tr>\n",
       "    <tr>\n",
       "      <th>78853</th>\n",
       "      <td>13</td>\n",
       "      <td>6</td>\n",
       "      <td>Wednesday</td>\n",
       "    </tr>\n",
       "    <tr>\n",
       "      <th>235520</th>\n",
       "      <td>19</td>\n",
       "      <td>5</td>\n",
       "      <td>Tuesday</td>\n",
       "    </tr>\n",
       "    <tr>\n",
       "      <th>74652</th>\n",
       "      <td>32</td>\n",
       "      <td>4</td>\n",
       "      <td>Monday</td>\n",
       "    </tr>\n",
       "    <tr>\n",
       "      <th>23911</th>\n",
       "      <td>23</td>\n",
       "      <td>2</td>\n",
       "      <td>Saturday</td>\n",
       "    </tr>\n",
       "    <tr>\n",
       "      <th>131897</th>\n",
       "      <td>29</td>\n",
       "      <td>1</td>\n",
       "      <td>Friday</td>\n",
       "    </tr>\n",
       "  </tbody>\n",
       "</table>\n",
       "</div>"
      ],
      "text/plain": [
       "        days_left  nDayOfWeek  DayOfWeek\n",
       "100904         39           4     Monday\n",
       "22215          14           0   Thursday\n",
       "118540         37           2   Saturday\n",
       "269569         38           3     Sunday\n",
       "297004         26           5    Tuesday\n",
       "78853          13           6  Wednesday\n",
       "235520         19           5    Tuesday\n",
       "74652          32           4     Monday\n",
       "23911          23           2   Saturday\n",
       "131897         29           1     Friday"
      ]
     },
     "execution_count": 16,
     "metadata": {},
     "output_type": "execute_result"
    }
   ],
   "source": [
    "df['nDayOfWeek'] = df['days_left'] % 7 #assign each day of the week to a number 1-7\n",
    "Daymapping = {\n",
    "    0: 'Thursday',\n",
    "    1: 'Friday',\n",
    "    2: 'Saturday',\n",
    "    3: 'Sunday',\n",
    "    4: 'Monday',\n",
    "    5: 'Tuesday',\n",
    "    6: 'Wednesday'\n",
    "}\n",
    "df['DayOfWeek'] = df['nDayOfWeek'].map(Daymapping) #This feature will eventually be one hot encoded, but is left as categorical for now to explore\n",
    "\n",
    "df.loc[np.random.choice(df.index, 10, replace=False), ['days_left' , 'nDayOfWeek', 'DayOfWeek']] #picks a random selection of 10 data points to ensure proper feature creation"
   ]
  },
  {
   "cell_type": "markdown",
   "metadata": {},
   "source": [
    "Now that this day of week feature is created, the data can be explored in terms of the day of the week. We would expect the number of flights in the data set to be relatively similar."
   ]
  },
  {
   "cell_type": "code",
   "execution_count": 17,
   "metadata": {},
   "outputs": [
    {
     "name": "stdout",
     "output_type": "stream",
     "text": [
      "Monday       44067\n",
      "Wednesday    44021\n",
      "Tuesday      44015\n",
      "Thursday     43995\n",
      "Sunday       42391\n",
      "Saturday     41777\n",
      "Friday       39887\n",
      "Name: DayOfWeek, dtype: int64\n"
     ]
    }
   ],
   "source": [
    "freq = df.DayOfWeek.value_counts()\n",
    "print(freq)"
   ]
  },
  {
   "cell_type": "code",
   "execution_count": 18,
   "metadata": {},
   "outputs": [
    {
     "data": {
      "text/html": [
       "<iframe\n",
       "    scrolling=\"no\"\n",
       "    width=\"620px\"\n",
       "    height=\"620\"\n",
       "    src=\"iframe_figures/figure_18.html\"\n",
       "    frameborder=\"0\"\n",
       "    allowfullscreen\n",
       "></iframe>\n"
      ]
     },
     "metadata": {},
     "output_type": "display_data"
    }
   ],
   "source": [
    "#makes pie chart to see proportion of flights for each day of the week\n",
    "fig = px.pie(freq, names=freq.index, values=freq.values, title='Percent of Flights From Day of Week') \n",
    "fig.update_layout(width=600, height=600) \n",
    "fig.update_traces(textinfo='percent+label') #Adds lable to chart\n",
    "\n",
    "fig.show()"
   ]
  },
  {
   "cell_type": "markdown",
   "metadata": {},
   "source": [
    "It's common advice that if you are trying to save money on airfare, you shouldn't book flights for Fridays. We can validate this claim amongst the dataset by comparing the mean economy price ticket for a certain route. For the sake of the following analysis, I will use Dehli to Bangalore."
   ]
  },
  {
   "cell_type": "code",
   "execution_count": 19,
   "metadata": {},
   "outputs": [
    {
     "name": "stdout",
     "output_type": "stream",
     "text": [
      "DayOfWeek\n",
      "Tuesday      5861.724184\n",
      "Thursday     5964.725861\n",
      "Monday       6007.057564\n",
      "Wednesday    6045.785319\n",
      "Friday       6236.297376\n",
      "Saturday     6479.697349\n",
      "Sunday       6661.995315\n",
      "Name: price, dtype: float64\n"
     ]
    }
   ],
   "source": [
    "#filter df so that the class is in economy and the source city is from Delhi and Destination is Bangalore\n",
    "xdf = df[\n",
    "    (df.source_city == 'Delhi') &\n",
    "    (df.destination_city == 'Bangalore') &\n",
    "    (df['class'] == 'Economy')\n",
    "]\n",
    "\n",
    "mean_prices = xdf.groupby(['DayOfWeek'])['price'].mean().sort_values()\n",
    "print(mean_prices)\n"
   ]
  },
  {
   "cell_type": "code",
   "execution_count": 20,
   "metadata": {},
   "outputs": [
    {
     "data": {
      "text/html": [
       "<iframe\n",
       "    scrolling=\"no\"\n",
       "    width=\"100%\"\n",
       "    height=\"545px\"\n",
       "    src=\"iframe_figures/figure_20.html\"\n",
       "    frameborder=\"0\"\n",
       "    allowfullscreen\n",
       "></iframe>\n"
      ]
     },
     "metadata": {},
     "output_type": "display_data"
    }
   ],
   "source": [
    "fig = px.bar(mean_prices, x= mean_prices.index, y = mean_prices.values)\n",
    "fig.update_yaxes(title_text='Mean Price') #changes y axis label\n",
    "fig.show()"
   ]
  },
  {
   "cell_type": "markdown",
   "metadata": {},
   "source": [
    "Unsurprisingly, we see that the weekends are the more expensive tickets on average. However, if we do the same analysis with the median prices rather than the mean, the result becomes more interesting."
   ]
  },
  {
   "cell_type": "code",
   "execution_count": 21,
   "metadata": {},
   "outputs": [
    {
     "name": "stdout",
     "output_type": "stream",
     "text": [
      "DayOfWeek\n",
      "Friday       4500.0\n",
      "Monday       4500.0\n",
      "Saturday     4500.0\n",
      "Thursday     4500.0\n",
      "Tuesday      4500.0\n",
      "Wednesday    4500.0\n",
      "Sunday       4538.0\n",
      "Name: price, dtype: float64\n"
     ]
    },
    {
     "data": {
      "text/html": [
       "<iframe\n",
       "    scrolling=\"no\"\n",
       "    width=\"100%\"\n",
       "    height=\"545px\"\n",
       "    src=\"iframe_figures/figure_21.html\"\n",
       "    frameborder=\"0\"\n",
       "    allowfullscreen\n",
       "></iframe>\n"
      ]
     },
     "metadata": {},
     "output_type": "display_data"
    }
   ],
   "source": [
    "median_prices = xdf.groupby(['DayOfWeek'])['price'].median().sort_values()\n",
    "print(median_prices)\n",
    "fig = px.bar(median_prices, x= median_prices.index, y = median_prices.values)\n",
    "fig.update_yaxes(title_text='Median Price') #changes y axis label\n",
    "fig.show()"
   ]
  },
  {
   "cell_type": "markdown",
   "metadata": {},
   "source": [
    "Now it seems like they are all the days of the week is equal. It is possible that because the data set begins with its first flight on a Friday, and as explored above, prices increase dramatically closer to the day of departure, it could have skewed the mean price of Friday and the weekends up. It's also possible that the result of this very constant median is caused by the pricing strategy of a singular airline around the median that keeps its prices pretty constant. We can explore this trend by making subplots for each airline on this route."
   ]
  },
  {
   "cell_type": "code",
   "execution_count": 22,
   "metadata": {},
   "outputs": [
    {
     "name": "stdout",
     "output_type": "stream",
     "text": [
      "    DayOfWeek    airline   price\n",
      "0      Friday    AirAsia  3569.0\n",
      "1     Tuesday    AirAsia  3569.0\n",
      "2   Wednesday    AirAsia  4019.0\n",
      "3    Thursday    AirAsia  4019.0\n",
      "4      Monday    AirAsia  4019.0\n",
      "5    Saturday    AirAsia  4019.0\n",
      "6      Friday   GO_FIRST  4205.0\n",
      "7     Tuesday   GO_FIRST  4205.0\n",
      "8    Saturday   GO_FIRST  4205.0\n",
      "9      Monday   GO_FIRST  4205.0\n",
      "10     Sunday   GO_FIRST  4225.0\n",
      "11  Wednesday   GO_FIRST  4284.5\n",
      "12   Thursday   GO_FIRST  4324.0\n",
      "13     Sunday    AirAsia  4469.0\n",
      "14     Monday     Indigo  4500.0\n",
      "15  Wednesday     Indigo  4500.0\n",
      "16   Saturday     Indigo  4500.0\n",
      "17    Tuesday     Indigo  4500.0\n",
      "18     Friday     Indigo  4500.0\n",
      "19   Thursday     Indigo  4500.0\n",
      "20    Tuesday    Vistara  4501.0\n",
      "21   Thursday    Vistara  4501.0\n",
      "22     Friday    Vistara  4501.0\n",
      "23     Monday    Vistara  4501.0\n",
      "24  Wednesday    Vistara  4501.0\n",
      "25   Saturday    Vistara  4501.0\n",
      "26     Sunday    Vistara  4501.0\n",
      "27     Sunday     Indigo  4745.0\n",
      "28     Friday  Air_India  5099.0\n",
      "29     Sunday  Air_India  5099.0\n",
      "30    Tuesday  Air_India  5110.0\n",
      "31   Thursday  Air_India  5148.0\n",
      "32     Monday  Air_India  5383.0\n",
      "33   Saturday  Air_India  5491.0\n",
      "34  Wednesday  Air_India  5504.0\n",
      "35     Friday   SpiceJet  5619.0\n",
      "36   Thursday   SpiceJet  5619.0\n",
      "37     Monday   SpiceJet  5619.0\n",
      "38     Sunday   SpiceJet  5936.0\n",
      "39    Tuesday   SpiceJet  5938.0\n",
      "40  Wednesday   SpiceJet  6031.0\n",
      "41   Saturday   SpiceJet  6427.0\n"
     ]
    }
   ],
   "source": [
    "median_prices_al = xdf.groupby(['DayOfWeek', 'airline'])['price'].median().sort_values().reset_index()\n",
    "print(median_prices_al)"
   ]
  },
  {
   "cell_type": "code",
   "execution_count": 23,
   "metadata": {},
   "outputs": [
    {
     "data": {
      "text/html": [
       "<iframe\n",
       "    scrolling=\"no\"\n",
       "    width=\"1220px\"\n",
       "    height=\"1020\"\n",
       "    src=\"iframe_figures/figure_23.html\"\n",
       "    frameborder=\"0\"\n",
       "    allowfullscreen\n",
       "></iframe>\n"
      ]
     },
     "metadata": {},
     "output_type": "display_data"
    }
   ],
   "source": [
    "fig = px.bar(median_prices_al, x='DayOfWeek', y='price', facet_row= 'airline')\n",
    "fig.update_yaxes(range=[3000, 6000]) #for better visuals in comapring the difference \n",
    "fig.update_layout(width=1200, height=1000) #updates graph dimenstions \n",
    "fig.show()"
   ]
  },
  {
   "cell_type": "markdown",
   "metadata": {},
   "source": [
    "We can now see that the result of the median price along that route being so consitant is that Indigo and Vistara's pricing methods remain constant throughout while the other airlines show more variability between the days of the week."
   ]
  },
  {
   "cell_type": "markdown",
   "metadata": {},
   "source": [
    "### Engineering and Selecting rest of features"
   ]
  },
  {
   "cell_type": "markdown",
   "metadata": {},
   "source": [
    "To process the data into terms such that a regression model can use, I used one hot encoding for the important categorical variables."
   ]
  },
  {
   "cell_type": "code",
   "execution_count": 24,
   "metadata": {},
   "outputs": [
    {
     "data": {
      "text/html": [
       "<div>\n",
       "<style scoped>\n",
       "    .dataframe tbody tr th:only-of-type {\n",
       "        vertical-align: middle;\n",
       "    }\n",
       "\n",
       "    .dataframe tbody tr th {\n",
       "        vertical-align: top;\n",
       "    }\n",
       "\n",
       "    .dataframe thead th {\n",
       "        text-align: right;\n",
       "    }\n",
       "</style>\n",
       "<table border=\"1\" class=\"dataframe\">\n",
       "  <thead>\n",
       "    <tr style=\"text-align: right;\">\n",
       "      <th></th>\n",
       "      <th>stops</th>\n",
       "      <th>duration</th>\n",
       "      <th>days_left</th>\n",
       "      <th>price</th>\n",
       "      <th>source_city_Bangalore</th>\n",
       "      <th>source_city_Chennai</th>\n",
       "      <th>source_city_Delhi</th>\n",
       "      <th>source_city_Hyderabad</th>\n",
       "      <th>source_city_Kolkata</th>\n",
       "      <th>source_city_Mumbai</th>\n",
       "      <th>...</th>\n",
       "      <th>destination_city_Mumbai</th>\n",
       "      <th>class_Business</th>\n",
       "      <th>class_Economy</th>\n",
       "      <th>DayOfWeek_Friday</th>\n",
       "      <th>DayOfWeek_Monday</th>\n",
       "      <th>DayOfWeek_Saturday</th>\n",
       "      <th>DayOfWeek_Sunday</th>\n",
       "      <th>DayOfWeek_Thursday</th>\n",
       "      <th>DayOfWeek_Tuesday</th>\n",
       "      <th>DayOfWeek_Wednesday</th>\n",
       "    </tr>\n",
       "  </thead>\n",
       "  <tbody>\n",
       "    <tr>\n",
       "      <th>0</th>\n",
       "      <td>zero</td>\n",
       "      <td>2.17</td>\n",
       "      <td>1</td>\n",
       "      <td>5953</td>\n",
       "      <td>0</td>\n",
       "      <td>0</td>\n",
       "      <td>1</td>\n",
       "      <td>0</td>\n",
       "      <td>0</td>\n",
       "      <td>0</td>\n",
       "      <td>...</td>\n",
       "      <td>1</td>\n",
       "      <td>0</td>\n",
       "      <td>1</td>\n",
       "      <td>1</td>\n",
       "      <td>0</td>\n",
       "      <td>0</td>\n",
       "      <td>0</td>\n",
       "      <td>0</td>\n",
       "      <td>0</td>\n",
       "      <td>0</td>\n",
       "    </tr>\n",
       "    <tr>\n",
       "      <th>1</th>\n",
       "      <td>zero</td>\n",
       "      <td>2.33</td>\n",
       "      <td>1</td>\n",
       "      <td>5953</td>\n",
       "      <td>0</td>\n",
       "      <td>0</td>\n",
       "      <td>1</td>\n",
       "      <td>0</td>\n",
       "      <td>0</td>\n",
       "      <td>0</td>\n",
       "      <td>...</td>\n",
       "      <td>1</td>\n",
       "      <td>0</td>\n",
       "      <td>1</td>\n",
       "      <td>1</td>\n",
       "      <td>0</td>\n",
       "      <td>0</td>\n",
       "      <td>0</td>\n",
       "      <td>0</td>\n",
       "      <td>0</td>\n",
       "      <td>0</td>\n",
       "    </tr>\n",
       "    <tr>\n",
       "      <th>2</th>\n",
       "      <td>zero</td>\n",
       "      <td>2.17</td>\n",
       "      <td>1</td>\n",
       "      <td>5956</td>\n",
       "      <td>0</td>\n",
       "      <td>0</td>\n",
       "      <td>1</td>\n",
       "      <td>0</td>\n",
       "      <td>0</td>\n",
       "      <td>0</td>\n",
       "      <td>...</td>\n",
       "      <td>1</td>\n",
       "      <td>0</td>\n",
       "      <td>1</td>\n",
       "      <td>1</td>\n",
       "      <td>0</td>\n",
       "      <td>0</td>\n",
       "      <td>0</td>\n",
       "      <td>0</td>\n",
       "      <td>0</td>\n",
       "      <td>0</td>\n",
       "    </tr>\n",
       "    <tr>\n",
       "      <th>3</th>\n",
       "      <td>zero</td>\n",
       "      <td>2.25</td>\n",
       "      <td>1</td>\n",
       "      <td>5955</td>\n",
       "      <td>0</td>\n",
       "      <td>0</td>\n",
       "      <td>1</td>\n",
       "      <td>0</td>\n",
       "      <td>0</td>\n",
       "      <td>0</td>\n",
       "      <td>...</td>\n",
       "      <td>1</td>\n",
       "      <td>0</td>\n",
       "      <td>1</td>\n",
       "      <td>1</td>\n",
       "      <td>0</td>\n",
       "      <td>0</td>\n",
       "      <td>0</td>\n",
       "      <td>0</td>\n",
       "      <td>0</td>\n",
       "      <td>0</td>\n",
       "    </tr>\n",
       "    <tr>\n",
       "      <th>4</th>\n",
       "      <td>zero</td>\n",
       "      <td>2.33</td>\n",
       "      <td>1</td>\n",
       "      <td>5955</td>\n",
       "      <td>0</td>\n",
       "      <td>0</td>\n",
       "      <td>1</td>\n",
       "      <td>0</td>\n",
       "      <td>0</td>\n",
       "      <td>0</td>\n",
       "      <td>...</td>\n",
       "      <td>1</td>\n",
       "      <td>0</td>\n",
       "      <td>1</td>\n",
       "      <td>1</td>\n",
       "      <td>0</td>\n",
       "      <td>0</td>\n",
       "      <td>0</td>\n",
       "      <td>0</td>\n",
       "      <td>0</td>\n",
       "      <td>0</td>\n",
       "    </tr>\n",
       "  </tbody>\n",
       "</table>\n",
       "<p>5 rows × 37 columns</p>\n",
       "</div>"
      ],
      "text/plain": [
       "  stops  duration  days_left  price  source_city_Bangalore  \\\n",
       "0  zero      2.17          1   5953                      0   \n",
       "1  zero      2.33          1   5953                      0   \n",
       "2  zero      2.17          1   5956                      0   \n",
       "3  zero      2.25          1   5955                      0   \n",
       "4  zero      2.33          1   5955                      0   \n",
       "\n",
       "   source_city_Chennai  source_city_Delhi  source_city_Hyderabad  \\\n",
       "0                    0                  1                      0   \n",
       "1                    0                  1                      0   \n",
       "2                    0                  1                      0   \n",
       "3                    0                  1                      0   \n",
       "4                    0                  1                      0   \n",
       "\n",
       "   source_city_Kolkata  source_city_Mumbai  ...  destination_city_Mumbai  \\\n",
       "0                    0                   0  ...                        1   \n",
       "1                    0                   0  ...                        1   \n",
       "2                    0                   0  ...                        1   \n",
       "3                    0                   0  ...                        1   \n",
       "4                    0                   0  ...                        1   \n",
       "\n",
       "   class_Business  class_Economy  DayOfWeek_Friday  DayOfWeek_Monday  \\\n",
       "0               0              1                 1                 0   \n",
       "1               0              1                 1                 0   \n",
       "2               0              1                 1                 0   \n",
       "3               0              1                 1                 0   \n",
       "4               0              1                 1                 0   \n",
       "\n",
       "   DayOfWeek_Saturday  DayOfWeek_Sunday  DayOfWeek_Thursday  \\\n",
       "0                   0                 0                   0   \n",
       "1                   0                 0                   0   \n",
       "2                   0                 0                   0   \n",
       "3                   0                 0                   0   \n",
       "4                   0                 0                   0   \n",
       "\n",
       "   DayOfWeek_Tuesday  DayOfWeek_Wednesday  \n",
       "0                  0                    0  \n",
       "1                  0                    0  \n",
       "2                  0                    0  \n",
       "3                  0                    0  \n",
       "4                  0                    0  \n",
       "\n",
       "[5 rows x 37 columns]"
      ]
     },
     "execution_count": 24,
     "metadata": {},
     "output_type": "execute_result"
    }
   ],
   "source": [
    "tdf = df.drop(['Unnamed: 0', 'flight', 'arrival_time', 'nDayOfWeek'], axis = 1) #drops data not going to be used for regression\n",
    "\n",
    "tdf = pd.get_dummies(tdf, columns=['source_city', 'airline', 'departure_time', 'destination_city', 'class', 'DayOfWeek']) #one hot econding categorical vars\n",
    "tdf.head()"
   ]
  },
  {
   "cell_type": "code",
   "execution_count": 25,
   "metadata": {},
   "outputs": [
    {
     "data": {
      "text/plain": [
       "1    250863\n",
       "0     36004\n",
       "2     13286\n",
       "Name: nStops, dtype: int64"
      ]
     },
     "execution_count": 25,
     "metadata": {},
     "output_type": "execute_result"
    }
   ],
   "source": [
    "#I'm going to assign 'zero' as 0, one as '1', and two_or_more as '2' for the sake of this regression\n",
    "mapping = {'zero': 0, 'one': 1, 'two_or_more': 2}\n",
    "tdf['nStops'] = tdf['stops'].map(mapping)\n",
    "tdf = tdf.drop(['stops'], axis = 1)\n",
    "tdf.nStops.value_counts()"
   ]
  },
  {
   "cell_type": "markdown",
   "metadata": {},
   "source": [
    "### Creating Training/Testing Split"
   ]
  },
  {
   "cell_type": "code",
   "execution_count": 26,
   "metadata": {},
   "outputs": [],
   "source": [
    "#Prepping data for modeling. Price is the variable I'm predicting.\n",
    "X = tdf.drop(['price'], axis = 1) #drops dependent variable to create dataframe of only predicting variables\n",
    "y = tdf.price #selects dependent variable\n",
    "\n",
    "X_train, X_test, y_train, y_test = train_test_split(X, y, test_size=0.2, random_state=20) #Training/Testing data split saving 20% of data for training"
   ]
  },
  {
   "cell_type": "markdown",
   "metadata": {},
   "source": [
    "The below graph shows the coorelation matrix of the data set showing the coorelation between the variables (rounded to two decimal places). From this graph, we can see that the strongest correlator with price is (unsurprisingly) whether the passenger is flying business or economy class. This graph also gives a quick way to visually scan the data for potential multiple colinearity."
   ]
  },
  {
   "cell_type": "code",
   "execution_count": 27,
   "metadata": {},
   "outputs": [
    {
     "data": {
      "text/html": [
       "<iframe\n",
       "    scrolling=\"no\"\n",
       "    width=\"1220px\"\n",
       "    height=\"820\"\n",
       "    src=\"iframe_figures/figure_27.html\"\n",
       "    frameborder=\"0\"\n",
       "    allowfullscreen\n",
       "></iframe>\n"
      ]
     },
     "metadata": {},
     "output_type": "display_data"
    }
   ],
   "source": [
    "fig = px.imshow(tdf.corr().round(2), text_auto = True) #creates coorelation plot showing the coorelation between rows and columns rounded to 2 digits\n",
    "fig.update_layout(width=1200, height=800) #updates graph dimenstions \n",
    "fig.show() #displays graph"
   ]
  },
  {
   "cell_type": "markdown",
   "metadata": {},
   "source": [
    "## 4. Modeling "
   ]
  },
  {
   "cell_type": "markdown",
   "metadata": {},
   "source": [
    "For this project, I will compare models using $R^2$ and Root Mean Squared Error (RMSE). $R^2$ indicates how well the variance in the data is explained by the model, with values closer to 1 signifying a more accurate model. RMSE measures the magnitude of prediction errors, so lower values are preferable. Together, these metrics provide a comprehensive evaluation of model performance by assessing both how well the model explains data variance and its prediction accuracy."
   ]
  },
  {
   "cell_type": "markdown",
   "metadata": {},
   "source": [
    "#### Linear Regression"
   ]
  },
  {
   "cell_type": "code",
   "execution_count": 28,
   "metadata": {},
   "outputs": [],
   "source": [
    "from sklearn.linear_model import LinearRegression\n",
    "from sklearn.metrics import mean_squared_error\n"
   ]
  },
  {
   "cell_type": "code",
   "execution_count": 29,
   "metadata": {},
   "outputs": [
    {
     "name": "stdout",
     "output_type": "stream",
     "text": [
      "0.9101375950128726\n"
     ]
    }
   ],
   "source": [
    "#Testing to see how well a simple linear regression model works on the data.\n",
    "lr = LinearRegression() #instatiates linear regression model\n",
    "\n",
    "lr.fit(X_train, y_train) #fits model to training data\n",
    "lrscore = lr.score(X_test, y_test) #scores the model based on its performance on the training data\n",
    "print(lrscore) #prints score"
   ]
  },
  {
   "cell_type": "markdown",
   "metadata": {},
   "source": [
    "A linear model seems to work quite well when scored on the testing data with an $R^2$ of $0.91$"
   ]
  },
  {
   "cell_type": "code",
   "execution_count": 30,
   "metadata": {},
   "outputs": [
    {
     "name": "stdout",
     "output_type": "stream",
     "text": [
      "[0.90900163 0.91084868 0.9097602  0.90922932 0.90841833]\n",
      "Mean: 0.9095   Std: 0.0008\n"
     ]
    }
   ],
   "source": [
    "#Cross validation\n",
    "from sklearn.model_selection import cross_val_score\n",
    "\n",
    "cvScore = cross_val_score(lr, X_train, y_train, cv=5) #gives scores amongst the linear regression model amongst the 5 different splits of the cross validation procedure\n",
    "print(cvScore)\n",
    "print(f'Mean: {cvScore.mean():.4f}   Std: {cvScore.std():.4f}')"
   ]
  },
  {
   "cell_type": "markdown",
   "metadata": {},
   "source": [
    "This is further verified by testing the model using cross validation amongst 5 splits."
   ]
  },
  {
   "cell_type": "code",
   "execution_count": 31,
   "metadata": {},
   "outputs": [
    {
     "data": {
      "text/html": [
       "<iframe\n",
       "    scrolling=\"no\"\n",
       "    width=\"820px\"\n",
       "    height=\"820\"\n",
       "    src=\"iframe_figures/figure_31.html\"\n",
       "    frameborder=\"0\"\n",
       "    allowfullscreen\n",
       "></iframe>\n"
      ]
     },
     "metadata": {},
     "output_type": "display_data"
    }
   ],
   "source": [
    "# Predictions on the test set\n",
    "y_pred = lr.predict(X_test) #creates an array of the model predictions from the testing data\n",
    "rmse = np.sqrt(mean_squared_error(y_test, y_pred))\n",
    "\n",
    "testdf = pd.DataFrame({'Actual': y_test, 'Predicted': y_pred}) #creates data frame of actual y (price) values and the models prediction\n",
    "fig = px.scatter(testdf, x='Actual', y='Predicted', labels={'Actual': 'Actual Values', 'Predicted': 'Predicted Values'}, opacity= 0.5) #plots points of prediction vs actual\n",
    "fig.update_layout(title = f'Linear Regression Predicted vs Actual      score: {lrscore:.4f} RMSE: {rmse:.4f}' ,width=800, height=800)\n",
    "fig.add_traces(go.Scatter(x=testdf['Actual'], y=testdf['Actual'], mode='lines', name='Regression Fit', line=dict(color='red', dash='dash'))) #creates a y=x line to show how well the model preeicts\n",
    "\n",
    "\n",
    "fig.show()"
   ]
  },
  {
   "cell_type": "markdown",
   "metadata": {},
   "source": [
    "From the graph above however, it seems like the model isn't as good as the $R^2$ value may suggest. A stronger model would be hugging the regression fit line more closely."
   ]
  },
  {
   "cell_type": "markdown",
   "metadata": {},
   "source": [
    "#### Searching For A Better Model"
   ]
  },
  {
   "cell_type": "markdown",
   "metadata": {},
   "source": [
    "Using the default hyperparameters for the following common regression models, we can get a decent idea of which kind of regression would yield the best results after some tuning. For each model, an $R^2$ value will be calculated and paired with a visual."
   ]
  },
  {
   "cell_type": "code",
   "execution_count": 33,
   "metadata": {},
   "outputs": [],
   "source": [
    "# Imports Ridge, Lasso, Elastic Net, LARS, Decision Trees, Stochastic Gradient Descent \n",
    "from sklearn.linear_model import Ridge, Lasso, ElasticNet, Lars, SGDRegressor\n",
    "from sklearn.tree import DecisionTreeRegressor\n",
    "from sklearn.ensemble import RandomForestRegressor\n",
    "from xgboost import XGBRegressor\n",
    "from sklearn.preprocessing import StandardScaler, Normalizer\n",
    "from sklearn.pipeline import Pipeline\n",
    "\n",
    "#instatiates test models with default parameters\n",
    "ridge_reg = Ridge()\n",
    "lasso_reg = Lasso()\n",
    "elast_reg = ElasticNet()\n",
    "lars_reg = Lars()\n",
    "detr_reg = DecisionTreeRegressor()\n",
    "stch_reg = SGDRegressor()\n",
    "rdmfrst = RandomForestRegressor()\n",
    "gradientBoostRegressor = XGBRegressor()\n",
    "\n",
    "\n",
    "\n",
    "# Create pipelines for models that require scaling/normalizing\n",
    "ridge_pipeline = Pipeline([\n",
    "    ('scaler', Normalizer()),\n",
    "    ('ridge', ridge_reg)\n",
    "])\n",
    "\n",
    "lasso_pipeline = Pipeline([\n",
    "    ('scaler', StandardScaler()),\n",
    "    ('lasso', lasso_reg)\n",
    "])\n",
    "\n",
    "elastic_net_pipeline = Pipeline([\n",
    "    ('scaler', StandardScaler()),\n",
    "    ('elastic_net', elast_reg)\n",
    "])\n",
    "\n",
    "lars_pipeline = Pipeline([\n",
    "    ('scaler', StandardScaler()),\n",
    "    ('lars', lars_reg)\n",
    "])\n",
    "\n",
    "sgd_pipeline = Pipeline([\n",
    "    ('scaler', StandardScaler()),\n",
    "    ('sgd', stch_reg)\n",
    "])\n",
    "\n",
    "# Create a dictionary of models to test\n",
    "models = {\n",
    "    'Ridge Regression': ridge_pipeline,\n",
    "    'Lasso Regression': lasso_pipeline,\n",
    "    'Elastic Net': elastic_net_pipeline,\n",
    "    'Lars': lars_pipeline,\n",
    "    'Decision Tree': detr_reg,\n",
    "    'Stochastic Gradient Descent': sgd_pipeline,\n",
    "    'Random Forest': rdmfrst,\n",
    "    'Gradient Boosting': gradientBoostRegressor\n",
    "}\n",
    "\n",
    "# Initialize a dictionary to hold the metrics\n",
    "model_metrics = {\n",
    "    'Model': [],\n",
    "    'R^2 Score': [],\n",
    "    'RMSE': []\n",
    "}\n",
    "\n",
    "# Append linear regression metrics\n",
    "model_metrics['Model'].append('Linear Regression')\n",
    "model_metrics['R^2 Score'].append(lrscore)\n",
    "model_metrics['RMSE'].append(rmse)"
   ]
  },
  {
   "cell_type": "code",
   "execution_count": 34,
   "metadata": {},
   "outputs": [
    {
     "name": "stderr",
     "output_type": "stream",
     "text": [
      "/Users/dylan/anaconda/lib/python3.9/site-packages/sklearn/linear_model/_base.py:133: FutureWarning:\n",
      "\n",
      "The default of 'normalize' will be set to False in version 1.2 and deprecated in version 1.4.\n",
      "If you wish to scale the data, use Pipeline with a StandardScaler in a preprocessing stage. To reproduce the previous behavior:\n",
      "\n",
      "from sklearn.pipeline import make_pipeline\n",
      "\n",
      "model = make_pipeline(StandardScaler(with_mean=False), Lars())\n",
      "\n",
      "If you wish to pass a sample_weight parameter, you need to pass it as a fit parameter to each step of the pipeline as follows:\n",
      "\n",
      "kwargs = {s[0] + '__sample_weight': sample_weight for s in model.steps}\n",
      "model.fit(X, y, **kwargs)\n",
      "\n",
      "\n",
      "\n",
      "/Users/dylan/anaconda/lib/python3.9/site-packages/sklearn/linear_model/_least_angle.py:649: ConvergenceWarning:\n",
      "\n",
      "Regressors in active set degenerate. Dropping a regressor, after 1 iterations, i.e. alpha=5.513e+00, with an active set of 1 regressors, and the smallest cholesky pivot element being 1.490e-08. Reduce max_iter or increase eps parameters.\n",
      "\n",
      "/Users/dylan/anaconda/lib/python3.9/site-packages/sklearn/linear_model/_least_angle.py:649: ConvergenceWarning:\n",
      "\n",
      "Regressors in active set degenerate. Dropping a regressor, after 9 iterations, i.e. alpha=8.792e-01, with an active set of 9 regressors, and the smallest cholesky pivot element being 1.490e-08. Reduce max_iter or increase eps parameters.\n",
      "\n",
      "/Users/dylan/anaconda/lib/python3.9/site-packages/sklearn/linear_model/_least_angle.py:649: ConvergenceWarning:\n",
      "\n",
      "Regressors in active set degenerate. Dropping a regressor, after 12 iterations, i.e. alpha=5.058e-01, with an active set of 12 regressors, and the smallest cholesky pivot element being 1.490e-08. Reduce max_iter or increase eps parameters.\n",
      "\n",
      "/Users/dylan/anaconda/lib/python3.9/site-packages/sklearn/linear_model/_least_angle.py:649: ConvergenceWarning:\n",
      "\n",
      "Regressors in active set degenerate. Dropping a regressor, after 14 iterations, i.e. alpha=3.714e-01, with an active set of 14 regressors, and the smallest cholesky pivot element being 1.490e-08. Reduce max_iter or increase eps parameters.\n",
      "\n",
      "/Users/dylan/anaconda/lib/python3.9/site-packages/sklearn/linear_model/_least_angle.py:649: ConvergenceWarning:\n",
      "\n",
      "Regressors in active set degenerate. Dropping a regressor, after 19 iterations, i.e. alpha=1.767e-01, with an active set of 19 regressors, and the smallest cholesky pivot element being 1.490e-08. Reduce max_iter or increase eps parameters.\n",
      "\n",
      "/Users/dylan/anaconda/lib/python3.9/site-packages/sklearn/linear_model/_least_angle.py:649: ConvergenceWarning:\n",
      "\n",
      "Regressors in active set degenerate. Dropping a regressor, after 32 iterations, i.e. alpha=5.336e-02, with an active set of 31 regressors, and the smallest cholesky pivot element being 8.162e-08. Reduce max_iter or increase eps parameters.\n",
      "\n",
      "/Users/dylan/anaconda/lib/python3.9/site-packages/sklearn/linear_model/_least_angle.py:649: ConvergenceWarning:\n",
      "\n",
      "Regressors in active set degenerate. Dropping a regressor, after 32 iterations, i.e. alpha=3.256e-02, with an active set of 31 regressors, and the smallest cholesky pivot element being 6.989e-08. Reduce max_iter or increase eps parameters.\n",
      "\n",
      "/Users/dylan/anaconda/lib/python3.9/site-packages/sklearn/linear_model/_least_angle.py:649: ConvergenceWarning:\n",
      "\n",
      "Regressors in active set degenerate. Dropping a regressor, after 32 iterations, i.e. alpha=9.819e-03, with an active set of 31 regressors, and the smallest cholesky pivot element being 6.989e-08. Reduce max_iter or increase eps parameters.\n",
      "\n",
      "/Users/dylan/anaconda/lib/python3.9/site-packages/sklearn/linear_model/_least_angle.py:649: ConvergenceWarning:\n",
      "\n",
      "Regressors in active set degenerate. Dropping a regressor, after 34 iterations, i.e. alpha=1.530e-02, with an active set of 32 regressors, and the smallest cholesky pivot element being 4.593e-08. Reduce max_iter or increase eps parameters.\n",
      "\n",
      "/Users/dylan/anaconda/lib/python3.9/site-packages/sklearn/linear_model/_least_angle.py:649: ConvergenceWarning:\n",
      "\n",
      "Regressors in active set degenerate. Dropping a regressor, after 34 iterations, i.e. alpha=5.981e-03, with an active set of 32 regressors, and the smallest cholesky pivot element being 8.162e-08. Reduce max_iter or increase eps parameters.\n",
      "\n",
      "/Users/dylan/anaconda/lib/python3.9/site-packages/sklearn/linear_model/_least_angle.py:649: ConvergenceWarning:\n",
      "\n",
      "Regressors in active set degenerate. Dropping a regressor, after 34 iterations, i.e. alpha=5.283e-03, with an active set of 32 regressors, and the smallest cholesky pivot element being 8.162e-08. Reduce max_iter or increase eps parameters.\n",
      "\n",
      "/Users/dylan/anaconda/lib/python3.9/site-packages/sklearn/linear_model/_least_angle.py:649: ConvergenceWarning:\n",
      "\n",
      "Regressors in active set degenerate. Dropping a regressor, after 34 iterations, i.e. alpha=7.075e-04, with an active set of 32 regressors, and the smallest cholesky pivot element being 1.490e-08. Reduce max_iter or increase eps parameters.\n",
      "\n"
     ]
    },
    {
     "data": {
      "text/html": [
       "<iframe\n",
       "    scrolling=\"no\"\n",
       "    width=\"1220px\"\n",
       "    height=\"4020\"\n",
       "    src=\"iframe_figures/figure_34.html\"\n",
       "    frameborder=\"0\"\n",
       "    allowfullscreen\n",
       "></iframe>\n"
      ]
     },
     "metadata": {},
     "output_type": "display_data"
    }
   ],
   "source": [
    "n_models = len(models) #variable of number of models\n",
    "fig = sp.make_subplots(rows=n_models, cols=1, subplot_titles=[f\"Model {i+1}\" for i in range(n_models)]) #create subplot object\n",
    "\n",
    "#loops through dictionary of models and trains each to the test data in a similar process to with the lienar regression\n",
    "for i, (model_name, regression_mod) in enumerate(models.items()):\n",
    "    regression_mod.fit(X_train, y_train)\n",
    "    temp_txt = regression_mod.score(X_test, y_test)\n",
    "    y_pred = regression_mod.predict(X_test)\n",
    "    rmse = np.sqrt(mean_squared_error(y_test, y_pred))\n",
    "\n",
    "\n",
    "    testdf = pd.DataFrame({'Actual': y_test, 'Predicted': y_pred}) \n",
    "    scatter_trace = go.Scatter(x=testdf['Actual'], y=testdf['Predicted'], mode='markers', name= f'{model_name} Predictions', opacity= 0.5)\n",
    "\n",
    "    # Add scatter plot to the subplot\n",
    "    fig.add_trace(scatter_trace, row=i+1, col=1)\n",
    "    fig.update_xaxes(title_text='Actual Values', row=i+1, col=1)\n",
    "    fig.update_yaxes(title_text='Predicted Values', row=i+1, col=1)\n",
    "\n",
    "    # Add y=x line to show regression fit\n",
    "    line_trace = go.Scatter(x=[min(testdf['Actual']), max(testdf['Actual'])], y=[min(testdf['Actual']), max(testdf['Actual'])], \n",
    "                            mode='lines', name= f'{model_name} Regression Fit', line=dict(color='red', dash='dash'))\n",
    "    fig.add_trace(line_trace, row=i+1, col=1)\n",
    "\n",
    "    # Update individual subplot title\n",
    "    fig.layout.annotations[i]['text'] = f\"{model_name} Predicted vs Actual (Score: {temp_txt:.4f}, RMSE: {rmse:.4f})\"\n",
    "    \n",
    "    # Append metrics to the dictionary\n",
    "    model_metrics['Model'].append(model_name)\n",
    "    model_metrics['R^2 Score'].append(temp_txt)\n",
    "    model_metrics['RMSE'].append(rmse)\n",
    "\n",
    "# Update the overall layout\n",
    "fig.update_layout(title=\"Model Predictions\", width=1200, height=500*n_models)\n",
    "\n",
    "fig.show()"
   ]
  },
  {
   "cell_type": "code",
   "execution_count": 58,
   "metadata": {},
   "outputs": [
    {
     "name": "stdout",
     "output_type": "stream",
     "text": [
      "                         Model  R^2 Score          RMSE\n",
      "0            Linear Regression   0.910138   6794.244142\n",
      "1             Ridge Regression   0.641649  13567.698130\n",
      "2             Lasso Regression   0.910142   6794.067513\n",
      "3                  Elastic Net   0.872112   8105.251441\n",
      "4                         Lars   0.903020   7058.203460\n",
      "5                Decision Tree   0.975615   3539.301930\n",
      "6  Stochastic Gradient Descent   0.909616   6813.930833\n",
      "7                Random Forest   0.985695   2710.773972\n",
      "8            Gradient Boosting   0.976268   3491.536846\n",
      "\n",
      "Best Model Based on R^2 Score:\n",
      "Model        Random Forest\n",
      "R^2 Score         0.985695\n",
      "RMSE           2710.773972\n",
      "Name: 7, dtype: object\n",
      "\n",
      "Best Model Based on RMSE:\n",
      "Model        Random Forest\n",
      "R^2 Score         0.985695\n",
      "RMSE           2710.773972\n",
      "Name: 7, dtype: object\n"
     ]
    }
   ],
   "source": [
    "# Create a DataFrame from the metrics dictionary\n",
    "metrics_df = pd.DataFrame(model_metrics)\n",
    "\n",
    "# Print the summary table\n",
    "print(metrics_df)\n",
    "\n",
    "# Highlight the best model based on the highest R^2 and lowest RMSE\n",
    "best_model_r2 = metrics_df.loc[metrics_df['R^2 Score'].idxmax()]\n",
    "best_model_rmse = metrics_df.loc[metrics_df['RMSE'].idxmin()]\n",
    "\n",
    "print(\"\\nBest Model Based on R^2 Score:\")\n",
    "print(best_model_r2)\n",
    "\n",
    "print(\"\\nBest Model Based on RMSE:\")\n",
    "print(best_model_rmse)"
   ]
  },
  {
   "cell_type": "markdown",
   "metadata": {},
   "source": [
    "#### Random Forrest Regression"
   ]
  },
  {
   "cell_type": "markdown",
   "metadata": {},
   "source": [
    "Since the random forrest regressor looked and scored the best given default parameters of the the models that were tested, the model will be improved with hyperparameter tuning."
   ]
  },
  {
   "cell_type": "code",
   "execution_count": 35,
   "metadata": {},
   "outputs": [
    {
     "name": "stdout",
     "output_type": "stream",
     "text": [
      "Random Forest Regression score: 0.985691815853512\n"
     ]
    }
   ],
   "source": [
    "# Create a Random Forest Regressor\n",
    "rf_regressor = RandomForestRegressor(n_estimators=100, random_state=42)\n",
    "\n",
    "# Fit the model to the training data\n",
    "rf_regressor.fit(X_train, y_train)\n",
    "\n",
    "# Calculate the R-squared score on the test data\n",
    "rf_score = rf_regressor.score(X_test, y_test)\n",
    "print(\"Random Forest Regression score:\", rf_score)\n"
   ]
  },
  {
   "cell_type": "code",
   "execution_count": 36,
   "metadata": {},
   "outputs": [
    {
     "data": {
      "text/html": [
       "<iframe\n",
       "    scrolling=\"no\"\n",
       "    width=\"820px\"\n",
       "    height=\"820\"\n",
       "    src=\"iframe_figures/figure_36.html\"\n",
       "    frameborder=\"0\"\n",
       "    allowfullscreen\n",
       "></iframe>\n"
      ]
     },
     "metadata": {},
     "output_type": "display_data"
    }
   ],
   "source": [
    "#repeat similar process to above to graph the accuracy of the non-tuned random foresst model\n",
    "y_pred = rf_regressor.predict(X_test)\n",
    "rmse = np.sqrt(mean_squared_error(y_test, y_pred))\n",
    "\n",
    "testdf = pd.DataFrame({'Actual': y_test, 'Predicted': y_pred})\n",
    "fig = px.scatter(testdf, x='Actual', y='Predicted', labels={'Actual': 'Actual Values', 'Predicted': 'Predicted Values'}, opacity = 0.5)\n",
    "fig.update_layout(title = f'Random Forest Regression Predicted vs Actual      score: {rf_score:.4}    RMSE: {rmse:.4f}',width=800, height=800)\n",
    "fig.add_traces(go.Scatter(x=testdf['Actual'], y=testdf['Actual'], mode='lines', name='Regression Fit', line=dict(color='red', dash = 'dash')))\n",
    "\n",
    "\n",
    "fig.show()"
   ]
  },
  {
   "cell_type": "markdown",
   "metadata": {},
   "source": [
    "The Random Foresst Regressor seems to be a significant improvement upon the simple linear model. Hyperparamter tuning may be able to improve the performance of this model."
   ]
  },
  {
   "cell_type": "code",
   "execution_count": 37,
   "metadata": {},
   "outputs": [],
   "source": [
    "from sklearn.model_selection import RandomizedSearchCV"
   ]
  },
  {
   "cell_type": "code",
   "execution_count": 43,
   "metadata": {},
   "outputs": [
    {
     "name": "stdout",
     "output_type": "stream",
     "text": [
      "Fitting 3 folds for each of 10 candidates, totalling 30 fits\n",
      "[CV] END max_depth=10, min_samples_split=2, n_estimators=100; total time=  34.1s\n",
      "[CV] END max_depth=10, min_samples_split=2, n_estimators=100; total time=  34.3s\n",
      "[CV] END max_depth=10, min_samples_split=2, n_estimators=100; total time=  28.7s\n",
      "[CV] END max_depth=10, min_samples_split=5, n_estimators=200; total time= 1.1min\n",
      "[CV] END max_depth=10, min_samples_split=5, n_estimators=200; total time= 1.3min\n",
      "[CV] END max_depth=10, min_samples_split=5, n_estimators=200; total time= 1.3min\n",
      "[CV] END max_depth=20, min_samples_split=5, n_estimators=100; total time=  45.7s\n",
      "[CV] END max_depth=20, min_samples_split=5, n_estimators=100; total time=  46.8s\n",
      "[CV] END max_depth=20, min_samples_split=5, n_estimators=100; total time=  46.9s\n",
      "[CV] END max_depth=None, min_samples_split=2, n_estimators=100; total time=  56.1s\n",
      "[CV] END max_depth=None, min_samples_split=2, n_estimators=100; total time=  54.8s\n"
     ]
    },
    {
     "name": "stderr",
     "output_type": "stream",
     "text": [
      "/Users/dylan/anaconda/lib/python3.9/site-packages/joblib/externals/loky/process_executor.py:702: UserWarning:\n",
      "\n",
      "A worker stopped while some jobs were given to the executor. This can be caused by a too short worker timeout or by a memory leak.\n",
      "\n"
     ]
    },
    {
     "name": "stdout",
     "output_type": "stream",
     "text": [
      "[CV] END max_depth=None, min_samples_split=10, n_estimators=300; total time= 2.6min\n",
      "[CV] END max_depth=None, min_samples_split=10, n_estimators=300; total time= 2.8min\n",
      "[CV] END max_depth=None, min_samples_split=2, n_estimators=100; total time= 1.5min\n",
      "[CV] END max_depth=10, min_samples_split=2, n_estimators=300; total time= 1.6min\n",
      "[CV] END max_depth=10, min_samples_split=2, n_estimators=300; total time= 1.6min\n",
      "[CV] END max_depth=10, min_samples_split=10, n_estimators=200; total time= 1.2min\n",
      "[CV] END max_depth=10, min_samples_split=10, n_estimators=200; total time= 1.1min\n",
      "[CV] END max_depth=None, min_samples_split=10, n_estimators=300; total time= 3.7min\n",
      "[CV] END max_depth=10, min_samples_split=10, n_estimators=200; total time= 1.1min\n",
      "[CV] END max_depth=10, min_samples_split=2, n_estimators=300; total time= 1.7min\n",
      "[CV] END max_depth=10, min_samples_split=5, n_estimators=100; total time=  33.8s\n",
      "[CV] END max_depth=10, min_samples_split=5, n_estimators=100; total time=  33.5s\n",
      "[CV] END max_depth=10, min_samples_split=5, n_estimators=100; total time=  33.3s\n",
      "[CV] END max_depth=20, min_samples_split=10, n_estimators=100; total time=  45.1s\n",
      "[CV] END max_depth=20, min_samples_split=10, n_estimators=100; total time=  44.6s\n",
      "[CV] END max_depth=20, min_samples_split=10, n_estimators=100; total time=  44.1s\n",
      "[CV] END max_depth=10, min_samples_split=10, n_estimators=300; total time= 1.5min\n",
      "[CV] END max_depth=10, min_samples_split=10, n_estimators=300; total time= 1.5min\n",
      "[CV] END max_depth=10, min_samples_split=10, n_estimators=300; total time= 2.0min\n",
      "Best parameters: {'n_estimators': 300, 'min_samples_split': 10, 'max_depth': None}\n",
      "Best RMSE: 2756.8835\n"
     ]
    }
   ],
   "source": [
    "param_dist = {\n",
    "    'n_estimators': [100, 200, 300], # Number of trees in the forest\n",
    "    'max_depth': [None, 10, 20], # Maximum depth of each tree\n",
    "    'min_samples_split': [2, 5, 10] # Minimum number of samples required to split an internal node\n",
    "}\n",
    "\n",
    "rf_regressor = RandomForestRegressor(random_state=42)\n",
    "\n",
    "# Define the scoring metric (negative mean squared error for RMSE)\n",
    "scoring = 'neg_mean_squared_error'\n",
    "\n",
    "# Perform randomized search\n",
    "rf_random = RandomizedSearchCV(\n",
    "    estimator=rf_regressor,\n",
    "    param_distributions=param_dist,\n",
    "    n_iter=10,\n",
    "    cv=3,\n",
    "    scoring=scoring,\n",
    "    random_state=42,\n",
    "    n_jobs=-1,\n",
    "    verbose = 2\n",
    ")\n",
    "\n",
    "rf_random.fit(X_train, y_train)\n",
    "\n",
    "# Get best parameters and RMSE score\n",
    "best_params = rf_random.best_params_\n",
    "best_rmse = np.sqrt(-rf_random.best_score_)\n",
    "print(f\"Best parameters: {best_params}\")\n",
    "print(f\"Best RMSE: {best_rmse:.4f}\")"
   ]
  },
  {
   "cell_type": "code",
   "execution_count": 38,
   "metadata": {},
   "outputs": [
    {
     "name": "stdout",
     "output_type": "stream",
     "text": [
      "Tuned Random Forest Regression score:  0.9863925508844272\n",
      "RMSE:  2643.8723891168715\n"
     ]
    }
   ],
   "source": [
    "tuned_rf = RandomForestRegressor(max_depth= None, min_samples_split= 10, n_estimators= 300, random_state= 865) #tuned model based on best grid search\n",
    "\n",
    "tuned_rf.fit(X_train, y_train)\n",
    "y_pred = tuned_rf.predict(X_test)\n",
    "tuned_rf_score = tuned_rf.score(X_test, y_test)\n",
    "rmse = np.sqrt(mean_squared_error(y_test, y_pred))\n",
    "\n",
    "\n",
    "\n",
    "print(\"Tuned Random Forest Regression score: \", tuned_rf_score)\n",
    "print(\"RMSE: \", rmse)"
   ]
  },
  {
   "cell_type": "code",
   "execution_count": 39,
   "metadata": {},
   "outputs": [
    {
     "data": {
      "text/html": [
       "<iframe\n",
       "    scrolling=\"no\"\n",
       "    width=\"820px\"\n",
       "    height=\"820\"\n",
       "    src=\"iframe_figures/figure_39.html\"\n",
       "    frameborder=\"0\"\n",
       "    allowfullscreen\n",
       "></iframe>\n"
      ]
     },
     "metadata": {},
     "output_type": "display_data"
    }
   ],
   "source": [
    "#Graphing the tuned model's prediction accuracy\n",
    "\n",
    "\n",
    "testdf = pd.DataFrame({'Actual': y_test, 'Predicted': y_pred})\n",
    "fig = px.scatter(testdf, x='Actual', y='Predicted', labels={'Actual': 'Actual Values', 'Predicted': 'Predicted Values'}, opacity= 0.5)\n",
    "fig.update_layout(title = f'Tuned Random Forest Regression Predicted vs Actual   score: {tuned_rf_score:.4f}  RMSE: {rmse:.4f}' ,width=800, height=800)\n",
    "fig.add_traces(go.Scatter(x=testdf['Actual'], y=testdf['Actual'], mode='lines', name='Regression Fit', line=dict(color='red', dash = 'dash')))\n",
    "\n",
    "\n",
    "fig.show()"
   ]
  },
  {
   "cell_type": "markdown",
   "metadata": {},
   "source": [
    "#### Saving Model for Implementation of UI"
   ]
  },
  {
   "cell_type": "code",
   "execution_count": 40,
   "metadata": {},
   "outputs": [],
   "source": [
    "import joblib"
   ]
  },
  {
   "cell_type": "code",
   "execution_count": 41,
   "metadata": {},
   "outputs": [
    {
     "data": {
      "text/plain": [
       "['tuned_flight_price.pkl']"
      ]
     },
     "execution_count": 41,
     "metadata": {},
     "output_type": "execute_result"
    }
   ],
   "source": [
    "joblib.dump(tuned_rf, 'tuned_flight_price.pkl')\n"
   ]
  },
  {
   "cell_type": "markdown",
   "metadata": {},
   "source": [
    "## 5. Conclusion"
   ]
  },
  {
   "cell_type": "markdown",
   "metadata": {},
   "source": [
    "In this project, I aimed to predict airfare using machine learning models with a dataset from Kaggle. Using exploratory data analysis, I obtained a sense of the dataset though the shares of airlines, distribution of prices, differences in class, and more. I then compared many kinds of machine learning models including Linear Regression, Decision Tree, and many more and determined that a Random Forrest model was the best for this data.The Random Forrest model was tuned using a random GridSearch and then implemented into a user interface that shows users the predicted price given their inputs and a prediction for the ideal booking time. Throughout the process of making this project, I encountered various challenges that were overcome in various ways. Firstly was the computation time and power needed for tuning the random forrest model. I attempted running a GridSearch with an elaborate hyperparameter grid which 5 cross validation folds. After hours of running, I decided to modify the process and reduce the hyperparameter grid, decrease to 3 folds, and do a randomized GridSearch. So, although I may not have found the most ideal model, I found one that was good enough such that it would be only barely worse than a perfectly tuned model without going through the exhausive searching process. Secondly, when comparing models, initially I just ran thorugh each of them without modifying the data to fit the assumption of each model. I later improved on this by standardizing or normalizing the data for the models which required such feature engineering. Although none of those models ended up being the best, I saw significant improvement in their individual performances after adjusting the data to be better suited for those models. Lastly, I decided to implement the feature of days of the week after my intial go at this project because of my knowledge of the industry. Typically, I knew that weekends tended to be more expensive, but the data set had no direct way of knowing what day of the week it was. After reading through the data sets about, I saw the day that the data was scraped and was able to create a way to deduce the day of the week that each flight was on. If I were to do this project again, I would use webscraping techniques to obtain flight information from my home airport so that such a model could help me make better informed decisions about what flights I should book and when."
   ]
  }
 ],
 "metadata": {
  "kernelspec": {
   "display_name": "Python 3",
   "language": "python",
   "name": "python3"
  },
  "language_info": {
   "codemirror_mode": {
    "name": "ipython",
    "version": 3
   },
   "file_extension": ".py",
   "mimetype": "text/x-python",
   "name": "python",
   "nbconvert_exporter": "python",
   "pygments_lexer": "ipython3",
   "version": "3.9.13"
  }
 },
 "nbformat": 4,
 "nbformat_minor": 2
}
